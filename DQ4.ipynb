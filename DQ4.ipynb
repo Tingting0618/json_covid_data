{
 "cells": [
  {
   "cell_type": "markdown",
   "metadata": {},
   "source": [
    "## Data Question 4: Nashville COVID-19 Violations\n",
    "\n",
    "In this project, you will explore COVID-19 violations reported to hubNashville, Metro Nashville government's comprehensive customer service system. "
   ]
  },
  {
   "cell_type": "code",
   "execution_count": 1,
   "metadata": {},
   "outputs": [],
   "source": [
    "import requests\n",
    "import pandas as pd"
   ]
  },
  {
   "cell_type": "markdown",
   "metadata": {},
   "source": [
    "\n",
    "### Part 1:\n",
    "Gather the dataset of hubNashville requests from https://data.nashville.gov/Public-Services/hubNashville-311-Service-Requests/7qhx-rexh. For this project, you should look at requests with Request Type of \"COVID-19\" and Subrequest Type of \"COVID-19 Violations\". Explore this dataset, looking at when and where these violations occurred.\n"
   ]
  },
  {
   "cell_type": "code",
   "execution_count": 2,
   "metadata": {},
   "outputs": [],
   "source": [
    "# url = 'https://data.nashville.gov/resource/7qhx-rexh.json'\n",
    "# response = requests.get(url)"
   ]
  },
  {
   "cell_type": "code",
   "execution_count": 10,
   "metadata": {},
   "outputs": [
    {
     "name": "stderr",
     "output_type": "stream",
     "text": [
      "C:\\Users\\duant\\anaconda3\\lib\\site-packages\\IPython\\core\\interactiveshell.py:3063: DtypeWarning: Columns (17) have mixed types.Specify dtype option on import or set low_memory=False.\n",
      "  interactivity=interactivity, compiler=compiler, result=result)\n"
     ]
    }
   ],
   "source": [
    "data=pd.read_csv('data/hubNashville__311__Service_Requests.csv');"
   ]
  },
  {
   "cell_type": "code",
   "execution_count": 15,
   "metadata": {},
   "outputs": [
    {
     "data": {
      "text/html": [
       "<div>\n",
       "<style scoped>\n",
       "    .dataframe tbody tr th:only-of-type {\n",
       "        vertical-align: middle;\n",
       "    }\n",
       "\n",
       "    .dataframe tbody tr th {\n",
       "        vertical-align: top;\n",
       "    }\n",
       "\n",
       "    .dataframe thead th {\n",
       "        text-align: right;\n",
       "    }\n",
       "</style>\n",
       "<table border=\"1\" class=\"dataframe\">\n",
       "  <thead>\n",
       "    <tr style=\"text-align: right;\">\n",
       "      <th></th>\n",
       "      <th>Request #</th>\n",
       "      <th>Status</th>\n",
       "      <th>Request Type</th>\n",
       "      <th>Subrequest Type</th>\n",
       "      <th>Additional Subrequest Type</th>\n",
       "      <th>Date / Time Opened</th>\n",
       "      <th>Date / Time Closed</th>\n",
       "      <th>Request Origin</th>\n",
       "      <th>System of Origin ID</th>\n",
       "      <th>Contact Type</th>\n",
       "      <th>...</th>\n",
       "      <th>State Issue</th>\n",
       "      <th>Parent Request</th>\n",
       "      <th>Closed When Created</th>\n",
       "      <th>Address</th>\n",
       "      <th>City</th>\n",
       "      <th>Council District</th>\n",
       "      <th>ZIP</th>\n",
       "      <th>Latitude</th>\n",
       "      <th>Longitude</th>\n",
       "      <th>Mapped Location</th>\n",
       "    </tr>\n",
       "  </thead>\n",
       "  <tbody>\n",
       "    <tr>\n",
       "      <th>0</th>\n",
       "      <td>113016</td>\n",
       "      <td>Closed</td>\n",
       "      <td>Trash, Recycling &amp; Litter</td>\n",
       "      <td>Cart Service</td>\n",
       "      <td>Trash - Request an Additional Cart</td>\n",
       "      <td>10/30/2018 01:47:00 PM</td>\n",
       "      <td>03/05/2019 09:35:00 PM</td>\n",
       "      <td>Phone</td>\n",
       "      <td>NaN</td>\n",
       "      <td>NaN</td>\n",
       "      <td>...</td>\n",
       "      <td>False</td>\n",
       "      <td>NaN</td>\n",
       "      <td>False</td>\n",
       "      <td>2009 Upland Dr</td>\n",
       "      <td>NASHVILLE</td>\n",
       "      <td>7.0</td>\n",
       "      <td>37216</td>\n",
       "      <td>36.198638</td>\n",
       "      <td>-86.706659</td>\n",
       "      <td>(36.1986378, -86.7066586)</td>\n",
       "    </tr>\n",
       "    <tr>\n",
       "      <th>1</th>\n",
       "      <td>53502</td>\n",
       "      <td>Closed</td>\n",
       "      <td>Property Violations</td>\n",
       "      <td>Residential Complaint</td>\n",
       "      <td>Residential Complaint</td>\n",
       "      <td>03/13/2018 09:34:50 PM</td>\n",
       "      <td>04/06/2018 01:13:32 PM</td>\n",
       "      <td>Phone</td>\n",
       "      <td>NaN</td>\n",
       "      <td>NaN</td>\n",
       "      <td>...</td>\n",
       "      <td>False</td>\n",
       "      <td>NaN</td>\n",
       "      <td>False</td>\n",
       "      <td>631 Murfreesboro Pike</td>\n",
       "      <td>NASHVILLE</td>\n",
       "      <td>17.0</td>\n",
       "      <td>37210</td>\n",
       "      <td>36.140070</td>\n",
       "      <td>-86.738360</td>\n",
       "      <td>(36.14007, -86.73836)</td>\n",
       "    </tr>\n",
       "  </tbody>\n",
       "</table>\n",
       "<p>2 rows × 21 columns</p>\n",
       "</div>"
      ],
      "text/plain": [
       "   Request #  Status               Request Type        Subrequest Type  \\\n",
       "0     113016  Closed  Trash, Recycling & Litter           Cart Service   \n",
       "1      53502  Closed        Property Violations  Residential Complaint   \n",
       "\n",
       "           Additional Subrequest Type      Date / Time Opened  \\\n",
       "0  Trash - Request an Additional Cart  10/30/2018 01:47:00 PM   \n",
       "1               Residential Complaint  03/13/2018 09:34:50 PM   \n",
       "\n",
       "       Date / Time Closed Request Origin System of Origin ID Contact Type  \\\n",
       "0  03/05/2019 09:35:00 PM          Phone                 NaN          NaN   \n",
       "1  04/06/2018 01:13:32 PM          Phone                 NaN          NaN   \n",
       "\n",
       "   ...  State Issue  Parent Request  Closed When Created  \\\n",
       "0  ...        False             NaN                False   \n",
       "1  ...        False             NaN                False   \n",
       "\n",
       "                 Address       City Council District    ZIP   Latitude  \\\n",
       "0         2009 Upland Dr  NASHVILLE              7.0  37216  36.198638   \n",
       "1  631 Murfreesboro Pike  NASHVILLE             17.0  37210  36.140070   \n",
       "\n",
       "   Longitude            Mapped Location  \n",
       "0 -86.706659  (36.1986378, -86.7066586)  \n",
       "1 -86.738360      (36.14007, -86.73836)  \n",
       "\n",
       "[2 rows x 21 columns]"
      ]
     },
     "execution_count": 15,
     "metadata": {},
     "output_type": "execute_result"
    }
   ],
   "source": [
    "data.head(2)"
   ]
  },
  {
   "cell_type": "code",
   "execution_count": 14,
   "metadata": {},
   "outputs": [],
   "source": [
    "violation = data[(data['Request Type']=='COVID-19')&(data['Subrequest Type']=='COVID-19 Violations')]"
   ]
  },
  {
   "cell_type": "code",
   "execution_count": 18,
   "metadata": {},
   "outputs": [
    {
     "data": {
      "text/html": [
       "<div>\n",
       "<style scoped>\n",
       "    .dataframe tbody tr th:only-of-type {\n",
       "        vertical-align: middle;\n",
       "    }\n",
       "\n",
       "    .dataframe tbody tr th {\n",
       "        vertical-align: top;\n",
       "    }\n",
       "\n",
       "    .dataframe thead th {\n",
       "        text-align: right;\n",
       "    }\n",
       "</style>\n",
       "<table border=\"1\" class=\"dataframe\">\n",
       "  <thead>\n",
       "    <tr style=\"text-align: right;\">\n",
       "      <th></th>\n",
       "      <th>Request #</th>\n",
       "      <th>Status</th>\n",
       "      <th>Request Type</th>\n",
       "      <th>Subrequest Type</th>\n",
       "      <th>Additional Subrequest Type</th>\n",
       "      <th>Date / Time Opened</th>\n",
       "      <th>Date / Time Closed</th>\n",
       "      <th>Request Origin</th>\n",
       "      <th>System of Origin ID</th>\n",
       "      <th>Contact Type</th>\n",
       "      <th>...</th>\n",
       "      <th>State Issue</th>\n",
       "      <th>Parent Request</th>\n",
       "      <th>Closed When Created</th>\n",
       "      <th>Address</th>\n",
       "      <th>City</th>\n",
       "      <th>Council District</th>\n",
       "      <th>ZIP</th>\n",
       "      <th>Latitude</th>\n",
       "      <th>Longitude</th>\n",
       "      <th>Mapped Location</th>\n",
       "    </tr>\n",
       "  </thead>\n",
       "  <tbody>\n",
       "    <tr>\n",
       "      <th>479105</th>\n",
       "      <td>492410</td>\n",
       "      <td>Closed</td>\n",
       "      <td>COVID-19</td>\n",
       "      <td>COVID-19 Violations</td>\n",
       "      <td>COVID-19 Violations</td>\n",
       "      <td>10/30/2020 09:47:56 PM</td>\n",
       "      <td>11/02/2020 03:50:18 PM</td>\n",
       "      <td>Phone</td>\n",
       "      <td>NaN</td>\n",
       "      <td>NaN</td>\n",
       "      <td>...</td>\n",
       "      <td>False</td>\n",
       "      <td>NaN</td>\n",
       "      <td>False</td>\n",
       "      <td>2408 Music Valley Dr</td>\n",
       "      <td>NASHVILLE</td>\n",
       "      <td>15.0</td>\n",
       "      <td>37214</td>\n",
       "      <td>36.218240</td>\n",
       "      <td>-86.697950</td>\n",
       "      <td>(36.21824, -86.69795)</td>\n",
       "    </tr>\n",
       "    <tr>\n",
       "      <th>479249</th>\n",
       "      <td>491755</td>\n",
       "      <td>Closed</td>\n",
       "      <td>COVID-19</td>\n",
       "      <td>COVID-19 Violations</td>\n",
       "      <td>COVID-19 Violations</td>\n",
       "      <td>10/30/2020 03:50:56 AM</td>\n",
       "      <td>10/30/2020 01:57:59 PM</td>\n",
       "      <td>hubNashville Community</td>\n",
       "      <td>NaN</td>\n",
       "      <td>NaN</td>\n",
       "      <td>...</td>\n",
       "      <td>False</td>\n",
       "      <td>NaN</td>\n",
       "      <td>False</td>\n",
       "      <td>2500 Charlotte Ave</td>\n",
       "      <td>NASHVILLE</td>\n",
       "      <td>21.0</td>\n",
       "      <td>37209</td>\n",
       "      <td>36.155145</td>\n",
       "      <td>-86.814101</td>\n",
       "      <td>(36.155145311603604, -86.8141005932541)</td>\n",
       "    </tr>\n",
       "  </tbody>\n",
       "</table>\n",
       "<p>2 rows × 21 columns</p>\n",
       "</div>"
      ],
      "text/plain": [
       "        Request #  Status Request Type      Subrequest Type  \\\n",
       "479105     492410  Closed     COVID-19  COVID-19 Violations   \n",
       "479249     491755  Closed     COVID-19  COVID-19 Violations   \n",
       "\n",
       "       Additional Subrequest Type      Date / Time Opened  \\\n",
       "479105        COVID-19 Violations  10/30/2020 09:47:56 PM   \n",
       "479249        COVID-19 Violations  10/30/2020 03:50:56 AM   \n",
       "\n",
       "            Date / Time Closed          Request Origin System of Origin ID  \\\n",
       "479105  11/02/2020 03:50:18 PM                   Phone                 NaN   \n",
       "479249  10/30/2020 01:57:59 PM  hubNashville Community                 NaN   \n",
       "\n",
       "       Contact Type  ...  State Issue  Parent Request  Closed When Created  \\\n",
       "479105          NaN  ...        False             NaN                False   \n",
       "479249          NaN  ...        False             NaN                False   \n",
       "\n",
       "                     Address       City Council District    ZIP   Latitude  \\\n",
       "479105  2408 Music Valley Dr  NASHVILLE             15.0  37214  36.218240   \n",
       "479249    2500 Charlotte Ave  NASHVILLE             21.0  37209  36.155145   \n",
       "\n",
       "        Longitude                          Mapped Location  \n",
       "479105 -86.697950                    (36.21824, -86.69795)  \n",
       "479249 -86.814101  (36.155145311603604, -86.8141005932541)  \n",
       "\n",
       "[2 rows x 21 columns]"
      ]
     },
     "execution_count": 18,
     "metadata": {},
     "output_type": "execute_result"
    }
   ],
   "source": [
    "violation.tail(2)"
   ]
  },
  {
   "cell_type": "code",
   "execution_count": 19,
   "metadata": {},
   "outputs": [
    {
     "data": {
      "text/plain": [
       "(11632, 21)"
      ]
     },
     "execution_count": 19,
     "metadata": {},
     "output_type": "execute_result"
    }
   ],
   "source": [
    "violation.shape"
   ]
  },
  {
   "cell_type": "markdown",
   "metadata": {},
   "source": [
    "### Part 2:\n",
    "The file davidson_cases.csv contains the number of COVID cases in Davidson county per day from March 8 through October 29. Use this dataset to compare the trend for the number of cases over time to the number of reported violations. Feel free to add any additional data that you think might be useful.\n"
   ]
  },
  {
   "cell_type": "code",
   "execution_count": 22,
   "metadata": {},
   "outputs": [],
   "source": [
    "davidson_cases=pd.read_csv('data/davidson_cases.csv');"
   ]
  },
  {
   "cell_type": "code",
   "execution_count": 25,
   "metadata": {},
   "outputs": [
    {
     "data": {
      "text/html": [
       "<div>\n",
       "<style scoped>\n",
       "    .dataframe tbody tr th:only-of-type {\n",
       "        vertical-align: middle;\n",
       "    }\n",
       "\n",
       "    .dataframe tbody tr th {\n",
       "        vertical-align: top;\n",
       "    }\n",
       "\n",
       "    .dataframe thead th {\n",
       "        text-align: right;\n",
       "    }\n",
       "</style>\n",
       "<table border=\"1\" class=\"dataframe\">\n",
       "  <thead>\n",
       "    <tr style=\"text-align: right;\">\n",
       "      <th></th>\n",
       "      <th>date</th>\n",
       "      <th>county</th>\n",
       "      <th>state</th>\n",
       "      <th>fips</th>\n",
       "      <th>cases</th>\n",
       "      <th>deaths</th>\n",
       "    </tr>\n",
       "  </thead>\n",
       "  <tbody>\n",
       "    <tr>\n",
       "      <th>0</th>\n",
       "      <td>2020-03-08</td>\n",
       "      <td>Davidson</td>\n",
       "      <td>Tennessee</td>\n",
       "      <td>47037</td>\n",
       "      <td>1</td>\n",
       "      <td>0</td>\n",
       "    </tr>\n",
       "    <tr>\n",
       "      <th>1</th>\n",
       "      <td>2020-03-09</td>\n",
       "      <td>Davidson</td>\n",
       "      <td>Tennessee</td>\n",
       "      <td>47037</td>\n",
       "      <td>1</td>\n",
       "      <td>0</td>\n",
       "    </tr>\n",
       "    <tr>\n",
       "      <th>2</th>\n",
       "      <td>2020-03-10</td>\n",
       "      <td>Davidson</td>\n",
       "      <td>Tennessee</td>\n",
       "      <td>47037</td>\n",
       "      <td>1</td>\n",
       "      <td>0</td>\n",
       "    </tr>\n",
       "    <tr>\n",
       "      <th>3</th>\n",
       "      <td>2020-03-11</td>\n",
       "      <td>Davidson</td>\n",
       "      <td>Tennessee</td>\n",
       "      <td>47037</td>\n",
       "      <td>2</td>\n",
       "      <td>0</td>\n",
       "    </tr>\n",
       "    <tr>\n",
       "      <th>4</th>\n",
       "      <td>2020-03-12</td>\n",
       "      <td>Davidson</td>\n",
       "      <td>Tennessee</td>\n",
       "      <td>47037</td>\n",
       "      <td>6</td>\n",
       "      <td>0</td>\n",
       "    </tr>\n",
       "  </tbody>\n",
       "</table>\n",
       "</div>"
      ],
      "text/plain": [
       "         date    county      state   fips  cases  deaths\n",
       "0  2020-03-08  Davidson  Tennessee  47037      1       0\n",
       "1  2020-03-09  Davidson  Tennessee  47037      1       0\n",
       "2  2020-03-10  Davidson  Tennessee  47037      1       0\n",
       "3  2020-03-11  Davidson  Tennessee  47037      2       0\n",
       "4  2020-03-12  Davidson  Tennessee  47037      6       0"
      ]
     },
     "execution_count": 25,
     "metadata": {},
     "output_type": "execute_result"
    }
   ],
   "source": [
    "davidson_cases.head(5)"
   ]
  },
  {
   "cell_type": "markdown",
   "metadata": {},
   "source": [
    "\n",
    "### Part 3:\n",
    "The Metro Public Health Department tracks COVID-19 clusters. The files `clusters.csv` and `clusters_by_type.csv` contain the tables of clusters as reported by [WSMV](https://www.wsmv.com/news/metro-health-releases-latest-covid-19-clusters/article_ef554e08-1558-11eb-b290-873345e174d7.html) along with the coordinates of the clusters. Can you find any connection between the reported COVID violations and subsequent COVID clusters?\n"
   ]
  },
  {
   "cell_type": "code",
   "execution_count": 27,
   "metadata": {},
   "outputs": [],
   "source": [
    "clusters=pd.read_csv('data/clusters.csv');"
   ]
  },
  {
   "cell_type": "code",
   "execution_count": 28,
   "metadata": {},
   "outputs": [
    {
     "data": {
      "text/html": [
       "<div>\n",
       "<style scoped>\n",
       "    .dataframe tbody tr th:only-of-type {\n",
       "        vertical-align: middle;\n",
       "    }\n",
       "\n",
       "    .dataframe tbody tr th {\n",
       "        vertical-align: top;\n",
       "    }\n",
       "\n",
       "    .dataframe thead th {\n",
       "        text-align: right;\n",
       "    }\n",
       "</style>\n",
       "<table border=\"1\" class=\"dataframe\">\n",
       "  <thead>\n",
       "    <tr style=\"text-align: right;\">\n",
       "      <th></th>\n",
       "      <th>Cluster Name</th>\n",
       "      <th>Facility Type</th>\n",
       "      <th>Cluster Start Date</th>\n",
       "      <th># Cases</th>\n",
       "      <th>Latitude</th>\n",
       "      <th>Longitude</th>\n",
       "    </tr>\n",
       "  </thead>\n",
       "  <tbody>\n",
       "    <tr>\n",
       "      <th>0</th>\n",
       "      <td>Vanderbilt Parties</td>\n",
       "      <td>Social Gathering</td>\n",
       "      <td>3/11/2020</td>\n",
       "      <td>49</td>\n",
       "      <td>36.125891</td>\n",
       "      <td>-86.822863</td>\n",
       "    </tr>\n",
       "    <tr>\n",
       "      <th>1</th>\n",
       "      <td>Event at Clementine Hall</td>\n",
       "      <td>Social Gathering</td>\n",
       "      <td>3/14/2020</td>\n",
       "      <td>23</td>\n",
       "      <td>36.152444</td>\n",
       "      <td>-86.8467716</td>\n",
       "    </tr>\n",
       "  </tbody>\n",
       "</table>\n",
       "</div>"
      ],
      "text/plain": [
       "               Cluster Name     Facility Type Cluster Start Date  # Cases  \\\n",
       "0        Vanderbilt Parties  Social Gathering          3/11/2020       49   \n",
       "1  Event at Clementine Hall  Social Gathering          3/14/2020       23   \n",
       "\n",
       "    Latitude    Longitude  \n",
       "0  36.125891   -86.822863  \n",
       "1  36.152444  -86.8467716  "
      ]
     },
     "execution_count": 28,
     "metadata": {},
     "output_type": "execute_result"
    }
   ],
   "source": [
    "clusters.head(2)"
   ]
  },
  {
   "cell_type": "markdown",
   "metadata": {},
   "source": [
    "### Part 4:\n",
    "The dataset from data.nashville.gov includes geospatial information, which allows you to see where violations occurred geographically, but it does not provide information in regard to the specific businesses that were reported. In this part, you should explore the  businesses and types of businesses that have been reported. To attempt to answer this, you have been provided data from the [Google Places API](https://developers.google.com/places/web-service/overview). Each file is formatted as a json. The values are as follows:\n",
    "* `mapped_location`: The mapped location from the hubNashville dataset\n",
    "* `address`: The address from the hubNashville dataset\n",
    "* `results`: The first five results from a Google Maps API nearbysearch, ranked by proximity to the Mapped Location. See https://developers.google.com/places/web-service/search#PlaceSearchResponses for more details on the fields in the results.\n",
    "\n",
    "Take these results and use them to match as many violations as possible to a business. **Warning:** it will not be possible to match all violations to a business, and there will be ambiguities when trying to do this match, so do not spend all of your time on this task.\n",
    "What do you find when you look into the types of businesses that have been reported for COVID violations?"
   ]
  },
  {
   "cell_type": "code",
   "execution_count": 60,
   "metadata": {},
   "outputs": [],
   "source": [
    "import glob\n",
    "import json\n",
    "from pandas.io.json import json_normalize"
   ]
  },
  {
   "cell_type": "code",
   "execution_count": 36,
   "metadata": {
    "scrolled": true
   },
   "outputs": [
    {
     "data": {
      "text/plain": [
       "['data/google_places_results\\\\results_01.json',\n",
       " 'data/google_places_results\\\\results_02.json',\n",
       " 'data/google_places_results\\\\results_03.json',\n",
       " 'data/google_places_results\\\\results_04.json',\n",
       " 'data/google_places_results\\\\results_05.json',\n",
       " 'data/google_places_results\\\\results_06.json',\n",
       " 'data/google_places_results\\\\results_07.json',\n",
       " 'data/google_places_results\\\\results_08.json',\n",
       " 'data/google_places_results\\\\results_09.json',\n",
       " 'data/google_places_results\\\\results_10.json',\n",
       " 'data/google_places_results\\\\results_11.json',\n",
       " 'data/google_places_results\\\\results_12.json',\n",
       " 'data/google_places_results\\\\results_13.json',\n",
       " 'data/google_places_results\\\\results_14.json',\n",
       " 'data/google_places_results\\\\results_15.json',\n",
       " 'data/google_places_results\\\\results_16.json',\n",
       " 'data/google_places_results\\\\results_17.json',\n",
       " 'data/google_places_results\\\\results_18.json',\n",
       " 'data/google_places_results\\\\results_19.json',\n",
       " 'data/google_places_results\\\\results_20.json',\n",
       " 'data/google_places_results\\\\results_21.json',\n",
       " 'data/google_places_results\\\\results_22.json',\n",
       " 'data/google_places_results\\\\results_23.json',\n",
       " 'data/google_places_results\\\\results_24.json',\n",
       " 'data/google_places_results\\\\results_25.json',\n",
       " 'data/google_places_results\\\\results_26.json',\n",
       " 'data/google_places_results\\\\results_27.json',\n",
       " 'data/google_places_results\\\\results_28.json',\n",
       " 'data/google_places_results\\\\results_29.json',\n",
       " 'data/google_places_results\\\\results_30.json',\n",
       " 'data/google_places_results\\\\results_31.json',\n",
       " 'data/google_places_results\\\\results_32.json',\n",
       " 'data/google_places_results\\\\results_33.json',\n",
       " 'data/google_places_results\\\\results_34.json',\n",
       " 'data/google_places_results\\\\results_35.json',\n",
       " 'data/google_places_results\\\\results_36.json',\n",
       " 'data/google_places_results\\\\results_37.json',\n",
       " 'data/google_places_results\\\\results_38.json',\n",
       " 'data/google_places_results\\\\results_39.json',\n",
       " 'data/google_places_results\\\\results_40.json',\n",
       " 'data/google_places_results\\\\results_41.json',\n",
       " 'data/google_places_results\\\\results_42.json',\n",
       " 'data/google_places_results\\\\results_43.json',\n",
       " 'data/google_places_results\\\\results_44.json',\n",
       " 'data/google_places_results\\\\results_45.json',\n",
       " 'data/google_places_results\\\\results_46.json',\n",
       " 'data/google_places_results\\\\results_47.json',\n",
       " 'data/google_places_results\\\\results_48.json',\n",
       " 'data/google_places_results\\\\results_49.json']"
      ]
     },
     "execution_count": 36,
     "metadata": {},
     "output_type": "execute_result"
    }
   ],
   "source": [
    "glob.glob('data/google_places_results/*.json')"
   ]
  },
  {
   "cell_type": "code",
   "execution_count": 64,
   "metadata": {},
   "outputs": [],
   "source": [
    "# with open('data/google_places_results\\\\results_49.json', 'r') as fi:\n",
    "#      googleplace_json = json.load(fi)"
   ]
  },
  {
   "cell_type": "code",
   "execution_count": 62,
   "metadata": {},
   "outputs": [
    {
     "data": {
      "text/plain": [
       "(29, 3)"
      ]
     },
     "execution_count": 62,
     "metadata": {},
     "output_type": "execute_result"
    }
   ],
   "source": [
    "data = pd.read_json('data/google_places_results\\\\results_49.json')\n",
    "data.shape"
   ]
  },
  {
   "cell_type": "code",
   "execution_count": 101,
   "metadata": {},
   "outputs": [
    {
     "data": {
      "text/plain": [
       "'Butcher & Bee'"
      ]
     },
     "execution_count": 101,
     "metadata": {},
     "output_type": "execute_result"
    }
   ],
   "source": [
    "data['results'][0][0]['name']"
   ]
  },
  {
   "cell_type": "code",
   "execution_count": 102,
   "metadata": {},
   "outputs": [
    {
     "data": {
      "text/plain": [
       "'902 Main Street, Nashville'"
      ]
     },
     "execution_count": 102,
     "metadata": {},
     "output_type": "execute_result"
    }
   ],
   "source": [
    "data['results'][0][0]['vicinity']"
   ]
  },
  {
   "cell_type": "code",
   "execution_count": 103,
   "metadata": {},
   "outputs": [
    {
     "data": {
      "text/plain": [
       "['restaurant', 'food', 'point_of_interest', 'establishment']"
      ]
     },
     "execution_count": 103,
     "metadata": {},
     "output_type": "execute_result"
    }
   ],
   "source": [
    "data['results'][0][0]['types']"
   ]
  },
  {
   "cell_type": "code",
   "execution_count": null,
   "metadata": {},
   "outputs": [],
   "source": []
  },
  {
   "cell_type": "code",
   "execution_count": null,
   "metadata": {},
   "outputs": [],
   "source": []
  },
  {
   "cell_type": "code",
   "execution_count": 106,
   "metadata": {},
   "outputs": [],
   "source": [
    "df = pd.DataFrame() "
   ]
  },
  {
   "cell_type": "code",
   "execution_count": 107,
   "metadata": {},
   "outputs": [],
   "source": [
    "for i in glob.glob('data/google_places_results/*.json'):\n",
    "    df_new = pd.read_json(i)\n",
    "    df = pd.concat([df,df_new])"
   ]
  },
  {
   "cell_type": "code",
   "execution_count": 129,
   "metadata": {},
   "outputs": [
    {
     "data": {
      "text/plain": [
       "4829"
      ]
     },
     "execution_count": 129,
     "metadata": {},
     "output_type": "execute_result"
    }
   ],
   "source": []
  },
  {
   "cell_type": "code",
   "execution_count": 122,
   "metadata": {},
   "outputs": [],
   "source": [
    "name1 = df.iloc[0]['results'][0]['name']"
   ]
  },
  {
   "cell_type": "code",
   "execution_count": 148,
   "metadata": {},
   "outputs": [
    {
     "data": {
      "text/plain": [
       "'2607 12th Avenue South, Nashville'"
      ]
     },
     "execution_count": 148,
     "metadata": {},
     "output_type": "execute_result"
    }
   ],
   "source": [
    "name1 = df.iloc[2]['results'][0]['vicinity']\n",
    "name1"
   ]
  },
  {
   "cell_type": "code",
   "execution_count": 124,
   "metadata": {},
   "outputs": [],
   "source": [
    "name2 = df.iloc[0]['results'][1]['name']"
   ]
  },
  {
   "cell_type": "code",
   "execution_count": null,
   "metadata": {},
   "outputs": [],
   "source": []
  },
  {
   "cell_type": "code",
   "execution_count": 143,
   "metadata": {},
   "outputs": [],
   "source": [
    "name1=[]\n",
    "name2=[]\n",
    "name3=[]\n",
    "name4=[]\n",
    "name5=[]"
   ]
  },
  {
   "cell_type": "code",
   "execution_count": 144,
   "metadata": {},
   "outputs": [],
   "source": [
    "for i in range (4829):\n",
    "    name=df.iloc[i]['results'][0]['name']\n",
    "    name1.append(name)\n",
    "    \n",
    "    name=df.iloc[i]['results'][1]['name']\n",
    "    name2.append(name)\n",
    "    \n",
    "    name=df.iloc[i]['results'][2]['name']\n",
    "    name3.append(name)\n",
    "    \n",
    "    name=df.iloc[i]['results'][3]['name']\n",
    "    name4.append(name)\n",
    "    \n",
    "    name=df.iloc[i]['results'][4]['name']\n",
    "    name5.append(name)"
   ]
  },
  {
   "cell_type": "code",
   "execution_count": 180,
   "metadata": {},
   "outputs": [],
   "source": [
    "for a in range(5):\n",
    "    vars()['add'+str(a)]"
   ]
  },
  {
   "cell_type": "code",
   "execution_count": 170,
   "metadata": {},
   "outputs": [],
   "source": [
    "vars()['add'+str(0)].append('heha')"
   ]
  },
  {
   "cell_type": "code",
   "execution_count": 175,
   "metadata": {},
   "outputs": [],
   "source": [
    "add1=[]\n",
    "add2=[]\n",
    "add3=[]\n",
    "add4=[]\n",
    "add5=[]"
   ]
  },
  {
   "cell_type": "code",
   "execution_count": 176,
   "metadata": {},
   "outputs": [],
   "source": [
    "for i in range (4829):\n",
    "    for a in range (5):\n",
    "        add=df.iloc[i]['results'][a]['vicinity']\n",
    "        vars()['add'+str(a+1)].append(add)\n"
   ]
  },
  {
   "cell_type": "code",
   "execution_count": 177,
   "metadata": {},
   "outputs": [],
   "source": [
    "types1=[]\n",
    "types2=[]\n",
    "types3=[]\n",
    "types4=[]\n",
    "types5=[]"
   ]
  },
  {
   "cell_type": "code",
   "execution_count": 178,
   "metadata": {},
   "outputs": [],
   "source": [
    "for i in range (4829):\n",
    "    for a in range (5):\n",
    "        types=df.iloc[i]['results'][a]['types']\n",
    "        vars()['types'+str(a+1)].append(types)\n"
   ]
  },
  {
   "cell_type": "code",
   "execution_count": null,
   "metadata": {},
   "outputs": [],
   "source": []
  }
 ],
 "metadata": {
  "kernelspec": {
   "display_name": "Python 3",
   "language": "python",
   "name": "python3"
  },
  "language_info": {
   "codemirror_mode": {
    "name": "ipython",
    "version": 3
   },
   "file_extension": ".py",
   "mimetype": "text/x-python",
   "name": "python",
   "nbconvert_exporter": "python",
   "pygments_lexer": "ipython3",
   "version": "3.7.6"
  }
 },
 "nbformat": 4,
 "nbformat_minor": 4
}
